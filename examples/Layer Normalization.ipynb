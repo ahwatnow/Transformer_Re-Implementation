{
 "cells": [
  {
   "cell_type": "code",
   "execution_count": 4,
   "metadata": {},
   "outputs": [],
   "source": [
    "import torch\n",
    "from torch import nn"
   ]
  },
  {
   "cell_type": "code",
   "execution_count": 48,
   "metadata": {},
   "outputs": [
    {
     "data": {
      "text/plain": [
       "torch.Size([2, 3, 4])"
      ]
     },
     "execution_count": 48,
     "metadata": {},
     "output_type": "execute_result"
    }
   ],
   "source": [
    "#inputs = torch.Tensor([[[0.2, 0.1, 0.3], [0.5, 0.1, 0.1]]])\n",
    "inputs = random_tensor = torch.rand(2, 3, 4)\n",
    "\n",
    "#B, S, E = inputs.size() # B is Batch Dimension, S is Sequence Length, E is Embedding Dimension\n",
    "#inputs = inputs.reshape(S, B, E)\n",
    "inputs.size()"
   ]
  },
  {
   "cell_type": "code",
   "execution_count": 49,
   "metadata": {},
   "outputs": [
    {
     "data": {
      "text/plain": [
       "(torch.Size([2, 1, 1]),\n",
       " tensor([[[0.5824]],\n",
       " \n",
       "         [[0.5446]]]))"
      ]
     },
     "execution_count": 49,
     "metadata": {},
     "output_type": "execute_result"
    }
   ],
   "source": [
    "mean = inputs.mean(dim=(-1, -2), keepdim=True)\n",
    "mean.size(), mean"
   ]
  },
  {
   "cell_type": "code",
   "execution_count": 50,
   "metadata": {},
   "outputs": [
    {
     "data": {
      "text/plain": [
       "(torch.Size([2, 1, 1]),\n",
       " tensor([[[0.5824]],\n",
       " \n",
       "         [[0.5446]]]))"
      ]
     },
     "execution_count": 50,
     "metadata": {},
     "output_type": "execute_result"
    }
   ],
   "source": [
    "mean = inputs.mean(dim=(-2, -1), keepdim=True)\n",
    "mean.size(), mean"
   ]
  },
  {
   "cell_type": "code",
   "execution_count": 24,
   "metadata": {},
   "outputs": [],
   "source": [
    "parameter_shape = inputs.size()[-2:]\n",
    "gamma = nn.Parameter(torch.ones(parameter_shape)) #standard deviation as 1\n",
    "beta = nn.Parameter(torch.zeros(parameter_shape))"
   ]
  },
  {
   "cell_type": "code",
   "execution_count": 25,
   "metadata": {},
   "outputs": [
    {
     "data": {
      "text/plain": [
       "(Parameter containing:\n",
       " tensor([[1., 1., 1.]], requires_grad=True),\n",
       " torch.Size([1, 3]))"
      ]
     },
     "execution_count": 25,
     "metadata": {},
     "output_type": "execute_result"
    }
   ],
   "source": [
    "gamma.size(), beta.size()"
   ]
  },
  {
   "cell_type": "code",
   "execution_count": 30,
   "metadata": {},
   "outputs": [
    {
     "name": "stdout",
     "output_type": "stream",
     "text": [
      "0\n",
      "1\n"
     ]
    }
   ],
   "source": [
    "for i in range(2):\n",
    "    print(i)"
   ]
  },
  {
   "cell_type": "code",
   "execution_count": 8,
   "metadata": {},
   "outputs": [],
   "source": [
    "dims = [-(i + 1) for i in range(len(parameter_shape))]"
   ]
  },
  {
   "cell_type": "code",
   "execution_count": 9,
   "metadata": {},
   "outputs": [
    {
     "data": {
      "text/plain": [
       "[-1, -2]"
      ]
     },
     "execution_count": 9,
     "metadata": {},
     "output_type": "execute_result"
    }
   ],
   "source": [
    "dims "
   ]
  },
  {
   "cell_type": "code",
   "execution_count": 13,
   "metadata": {},
   "outputs": [
    {
     "data": {
      "text/plain": [
       "torch.Size([2, 1, 3])"
      ]
     },
     "execution_count": 13,
     "metadata": {},
     "output_type": "execute_result"
    }
   ],
   "source": [
    "inputs.size()"
   ]
  },
  {
   "cell_type": "code",
   "execution_count": 15,
   "metadata": {},
   "outputs": [
    {
     "data": {
      "text/plain": [
       "torch.Size([2, 1, 1])"
      ]
     },
     "execution_count": 15,
     "metadata": {},
     "output_type": "execute_result"
    }
   ],
   "source": [
    "mean = inputs.mean(dim=dims, keepdim=True)\n",
    "mean.size()"
   ]
  },
  {
   "cell_type": "code",
   "execution_count": 11,
   "metadata": {},
   "outputs": [
    {
     "data": {
      "text/plain": [
       "tensor([[[0.2000]],\n",
       "\n",
       "        [[0.2333]]])"
      ]
     },
     "execution_count": 11,
     "metadata": {},
     "output_type": "execute_result"
    }
   ],
   "source": [
    "mean"
   ]
  },
  {
   "cell_type": "code",
   "execution_count": 22,
   "metadata": {},
   "outputs": [
    {
     "data": {
      "text/plain": [
       "tensor([[[0.0817]],\n",
       "\n",
       "        [[0.1886]]])"
      ]
     },
     "execution_count": 22,
     "metadata": {},
     "output_type": "execute_result"
    }
   ],
   "source": [
    "var = ((inputs - mean)**2).mean(dim=dims, keepdim=True)\n",
    "epsilon = 1e-5\n",
    "std = (var + epsilon).sqrt()\n",
    "std"
   ]
  },
  {
   "cell_type": "code",
   "execution_count": 23,
   "metadata": {},
   "outputs": [
    {
     "data": {
      "text/plain": [
       "tensor([[[ 0.0000, -1.2238,  1.2238]],\n",
       "\n",
       "        [[ 1.4140, -0.7070, -0.7070]]])"
      ]
     },
     "execution_count": 23,
     "metadata": {},
     "output_type": "execute_result"
    }
   ],
   "source": [
    "y = (inputs - mean) / std\n",
    "y"
   ]
  },
  {
   "cell_type": "code",
   "execution_count": 26,
   "metadata": {},
   "outputs": [
    {
     "data": {
      "text/plain": [
       "tensor([[[ 0.0000, -1.2238,  1.2238]],\n",
       "\n",
       "        [[ 1.4140, -0.7070, -0.7070]]], grad_fn=<AddBackward0>)"
      ]
     },
     "execution_count": 26,
     "metadata": {},
     "output_type": "execute_result"
    }
   ],
   "source": [
    "out= gamma * y + beta\n",
    "out"
   ]
  },
  {
   "cell_type": "markdown",
   "metadata": {},
   "source": [
    "## Put in All Together"
   ]
  },
  {
   "cell_type": "code",
   "execution_count": 51,
   "metadata": {},
   "outputs": [],
   "source": [
    "import torch \n",
    "from torch import nn\n",
    "\n",
    "class LayerNormalization():\n",
    "    def __init__(self, parameters_shape, eps=1e-5):\n",
    "        self.parameters_shape = parameters_shape\n",
    "        self.eps = eps \n",
    "        self.gamma = nn.Parameter(torch.ones(parameters_shape))\n",
    "        self.beta = nn.Parameter(torch.zeros(parameters_shape))\n",
    "    \n",
    "    def forward(self, input):\n",
    "        dims = [-(i + 1) for i in range((len(self.parameters_shape)))]\n",
    "        mean = inputs.mean(dim=dims, keepdim=True)\n",
    "        print(f\"Mean \\n ({mean.size()}): \\n {mean}\")\n",
    "        var = ((inputs - mean) **2).mean(dim=dims, keepdim=True)\n",
    "        std = (var + self.eps).sqrt()\n",
    "        print(f\"Standard Deviation \\n ({std.size()}): \\n {std}\")\n",
    "        y = (inputs - mean) / std\n",
    "        print(f\"y \\n ({y.size()} = \\n {y})\")\n",
    "        out = self.gamma * y + self.beta\n",
    "        print(f\"out \\n ({out.size()}): \\n {out}\")\n",
    "        return out "
   ]
  },
  {
   "cell_type": "code",
   "execution_count": 52,
   "metadata": {},
   "outputs": [
    {
     "name": "stdout",
     "output_type": "stream",
     "text": [
      "Input \n",
      " (torch.Size([5, 3, 8])) = \n",
      " tensor([[[-0.4038,  0.4701, -0.7077, -0.5308, -0.0911,  1.0892,  0.6218,\n",
      "          -1.3178],\n",
      "         [ 0.0333, -0.2147, -0.2740,  0.4524,  0.6405, -0.9766, -0.8086,\n",
      "          -1.2669],\n",
      "         [-2.0655,  1.5353,  0.2845, -0.5863, -1.2331, -1.0358, -0.6745,\n",
      "          -2.0683]],\n",
      "\n",
      "        [[ 2.6855,  0.9859, -1.3735, -0.7226,  0.2717,  0.4650, -0.1177,\n",
      "          -0.9257],\n",
      "         [ 0.5514, -1.3410, -0.5067, -1.7234, -0.1031,  0.7908, -1.0715,\n",
      "           1.0788],\n",
      "         [ 0.2456,  2.0981,  1.3984,  0.4814, -0.2051, -0.2127,  0.0275,\n",
      "          -0.0486]],\n",
      "\n",
      "        [[ 1.6775,  0.3853, -1.3209, -0.8189,  0.6491, -0.6232,  0.1418,\n",
      "           0.6868],\n",
      "         [-0.1612,  1.8456, -0.2629, -0.5832, -0.0241,  0.0343, -0.3490,\n",
      "          -0.8445],\n",
      "         [-0.6611,  0.8946, -0.9291,  0.7850, -0.2915,  0.0955, -1.0408,\n",
      "           0.3849]],\n",
      "\n",
      "        [[-0.1459, -0.4396, -1.0301, -0.5471, -0.0491, -0.1092, -1.3591,\n",
      "          -0.2347],\n",
      "         [-0.0585,  0.0697, -0.8083, -0.6788,  0.4310, -1.2496, -1.0739,\n",
      "          -1.3139],\n",
      "         [ 1.0595, -1.7664, -0.9407, -1.0833, -0.5325,  1.9958, -0.5470,\n",
      "           0.7888]],\n",
      "\n",
      "        [[-0.9358, -1.9473,  1.0241, -1.2082, -0.4167,  0.0937, -0.7759,\n",
      "          -1.2637],\n",
      "         [-0.4480, -0.8201,  0.5911,  0.1069,  0.8057, -1.0911, -0.7877,\n",
      "           0.0614],\n",
      "         [-0.6792,  0.5699, -0.9676,  0.2247,  0.7345, -0.0596,  1.4569,\n",
      "           1.3681]]])\n"
     ]
    }
   ],
   "source": [
    "batch_size = 3\n",
    "sentence_length = 5\n",
    "embedding_dim = 8\n",
    "inputs = torch.randn(sentence_length, batch_size, embedding_dim)\n",
    "\n",
    "print(f\"Input \\n ({inputs.size()}) = \\n {inputs}\")"
   ]
  },
  {
   "cell_type": "code",
   "execution_count": 53,
   "metadata": {},
   "outputs": [],
   "source": [
    "layer_norm = LayerNormalization(inputs.size()[-2:])"
   ]
  },
  {
   "cell_type": "code",
   "execution_count": 54,
   "metadata": {},
   "outputs": [
    {
     "name": "stdout",
     "output_type": "stream",
     "text": [
      "Mean \n",
      " (torch.Size([5, 1, 1])): \n",
      " tensor([[[-0.3804]],\n",
      "\n",
      "        [[ 0.1137]],\n",
      "\n",
      "        [[-0.0138]],\n",
      "\n",
      "        [[-0.4010]],\n",
      "\n",
      "        [[-0.1818]]])\n",
      "Standard Deviation \n",
      " (torch.Size([5, 1, 1])): \n",
      " tensor([[[0.8976]],\n",
      "\n",
      "        [[1.0500]],\n",
      "\n",
      "        [[0.8009]],\n",
      "\n",
      "        [[0.8385]],\n",
      "\n",
      "        [[0.8844]]])\n",
      "y \n",
      " (torch.Size([5, 3, 8]) = \n",
      " tensor([[[-0.0261,  0.9474, -0.3647, -0.1676,  0.3223,  1.6372,  1.1165,\n",
      "          -1.0444],\n",
      "         [ 0.4608,  0.1845,  0.1185,  0.9277,  1.1373, -0.6642, -0.4771,\n",
      "          -0.9877],\n",
      "         [-1.8774,  2.1342,  0.7407, -0.2294, -0.9500, -0.7302, -0.3277,\n",
      "          -1.8804]],\n",
      "\n",
      "        [[ 2.4494,  0.8307, -1.4163, -0.7964,  0.1505,  0.3346, -0.2204,\n",
      "          -0.9899],\n",
      "         [ 0.4169, -1.3854, -0.5908, -1.7496, -0.2064,  0.6449, -1.1287,\n",
      "           0.9191],\n",
      "         [ 0.1257,  1.8899,  1.2235,  0.3502, -0.3036, -0.3109, -0.0821,\n",
      "          -0.1546]],\n",
      "\n",
      "        [[ 2.1116,  0.4982, -1.6320, -1.0052,  0.8276, -0.7609,  0.1943,\n",
      "           0.8746],\n",
      "         [-0.1841,  2.3216, -0.3111, -0.7110, -0.0129,  0.0600, -0.4185,\n",
      "          -1.0373],\n",
      "         [-0.8083,  1.1341, -1.1428,  0.9973, -0.3468,  0.1364, -1.2824,\n",
      "           0.4977]],\n",
      "\n",
      "        [[ 0.3042, -0.0461, -0.7504, -0.1744,  0.4196,  0.3480, -1.1427,\n",
      "           0.1983],\n",
      "         [ 0.4084,  0.5614, -0.4858, -0.3313,  0.9922, -1.0121, -0.8026,\n",
      "          -1.0889],\n",
      "         [ 1.7418, -1.6285, -0.6437, -0.8138, -0.1569,  2.8586, -0.1742,\n",
      "           1.4190]],\n",
      "\n",
      "        [[-0.8525, -1.9962,  1.3635, -1.1605, -0.2655,  0.3116, -0.6717,\n",
      "          -1.2232],\n",
      "         [-0.3010, -0.7217,  0.8739,  0.3265,  1.1166, -1.0281, -0.6851,\n",
      "           0.2750],\n",
      "         [-0.5623,  0.8500, -0.8885,  0.4596,  1.0361,  0.1382,  1.8529,\n",
      "           1.7525]]]))\n",
      "out \n",
      " (torch.Size([5, 3, 8])): \n",
      " tensor([[[-0.0261,  0.9474, -0.3647, -0.1676,  0.3223,  1.6372,  1.1165,\n",
      "          -1.0444],\n",
      "         [ 0.4608,  0.1845,  0.1185,  0.9277,  1.1373, -0.6642, -0.4771,\n",
      "          -0.9877],\n",
      "         [-1.8774,  2.1342,  0.7407, -0.2294, -0.9500, -0.7302, -0.3277,\n",
      "          -1.8804]],\n",
      "\n",
      "        [[ 2.4494,  0.8307, -1.4163, -0.7964,  0.1505,  0.3346, -0.2204,\n",
      "          -0.9899],\n",
      "         [ 0.4169, -1.3854, -0.5908, -1.7496, -0.2064,  0.6449, -1.1287,\n",
      "           0.9191],\n",
      "         [ 0.1257,  1.8899,  1.2235,  0.3502, -0.3036, -0.3109, -0.0821,\n",
      "          -0.1546]],\n",
      "\n",
      "        [[ 2.1116,  0.4982, -1.6320, -1.0052,  0.8276, -0.7609,  0.1943,\n",
      "           0.8746],\n",
      "         [-0.1841,  2.3216, -0.3111, -0.7110, -0.0129,  0.0600, -0.4185,\n",
      "          -1.0373],\n",
      "         [-0.8083,  1.1341, -1.1428,  0.9973, -0.3468,  0.1364, -1.2824,\n",
      "           0.4977]],\n",
      "\n",
      "        [[ 0.3042, -0.0461, -0.7504, -0.1744,  0.4196,  0.3480, -1.1427,\n",
      "           0.1983],\n",
      "         [ 0.4084,  0.5614, -0.4858, -0.3313,  0.9922, -1.0121, -0.8026,\n",
      "          -1.0889],\n",
      "         [ 1.7418, -1.6285, -0.6437, -0.8138, -0.1569,  2.8586, -0.1742,\n",
      "           1.4190]],\n",
      "\n",
      "        [[-0.8525, -1.9962,  1.3635, -1.1605, -0.2655,  0.3116, -0.6717,\n",
      "          -1.2232],\n",
      "         [-0.3010, -0.7217,  0.8739,  0.3265,  1.1166, -1.0281, -0.6851,\n",
      "           0.2750],\n",
      "         [-0.5623,  0.8500, -0.8885,  0.4596,  1.0361,  0.1382,  1.8529,\n",
      "           1.7525]]], grad_fn=<AddBackward0>)\n"
     ]
    }
   ],
   "source": [
    "out = layer_norm.forward(inputs)"
   ]
  },
  {
   "cell_type": "code",
   "execution_count": 8,
   "metadata": {},
   "outputs": [
    {
     "name": "stdout",
     "output_type": "stream",
     "text": [
      "1\n",
      "[2, 3]\n",
      "2 3\n"
     ]
    }
   ],
   "source": [
    "a, *b = [1, 2, 3]\n",
    "print(a)\n",
    "print(b)\n",
    "print(*b)"
   ]
  },
  {
   "cell_type": "code",
   "execution_count": 13,
   "metadata": {},
   "outputs": [
    {
     "name": "stdout",
     "output_type": "stream",
     "text": [
      "a"
     ]
    }
   ],
   "source": [
    "class A:\n",
    "    def __init__(self):\n",
    "        print(\"a\", end='')\n",
    "\n",
    "class B(A):\n",
    "    def __init__(self):\n",
    "        super(B, self).__init__()\n",
    "        print(\"b\", end='')\n",
    "\n",
    "class C(B):\n",
    "    def __init__(self):\n",
    "        super(C, self).__init__()\n",
    "        print(\"c\", end='')\n",
    "\n",
    "class D(C):\n",
    "    def __init__(self):\n",
    "        super(D, self).__init__()\n",
    "        print(\"d\", end='')\n",
    "\n",
    "d = A()"
   ]
  },
  {
   "cell_type": "code",
   "execution_count": 8,
   "metadata": {},
   "outputs": [
    {
     "name": "stdout",
     "output_type": "stream",
     "text": [
      "odd size: torch.Size([200, 256]), stacked size: torch.Size([200, 256, 2]), PE size: torch.Size([200, 512])\n"
     ]
    }
   ],
   "source": [
    "import torch\n",
    "_2i = torch.arange(0, 512, 2).float()\n",
    "denominator = torch.pow(10000, _2i/512)\n",
    "position = torch.arange(200).reshape(200, 1)\n",
    "even = torch.sin(position / denominator)\n",
    "odd = torch.cos(position / denominator)\n",
    "stacked = torch.stack([even, odd], dim=2)\n",
    "PE = torch.flatten(stacked, start_dim = 1, end_dim = 2)\n",
    "print(f\"odd size: {odd.size()}, stacked size: {stacked.size()}, PE size: {PE.size()}\")"
   ]
  },
  {
   "cell_type": "code",
   "execution_count": 9,
   "metadata": {},
   "outputs": [
    {
     "data": {
      "text/plain": [
       "torch.Size([2, 12])"
      ]
     },
     "execution_count": 9,
     "metadata": {},
     "output_type": "execute_result"
    }
   ],
   "source": [
    "stacked = torch.tensor([\n",
    "    [\n",
    "        [1, 2, 3, 4],\n",
    "        [5, 6, 7, 8],\n",
    "        [9, 10, 11, 12]\n",
    "    ],\n",
    "    [\n",
    "        [13, 14, 15, 16],\n",
    "        [17, 18, 19, 20],\n",
    "        [21, 22, 23, 24]\n",
    "    ]\n",
    "])\n",
    "PE = torch.flatten(stacked, start_dim=1, end_dim=2)\n",
    "PE.size()"
   ]
  },
  {
   "cell_type": "code",
   "execution_count": 43,
   "metadata": {},
   "outputs": [
    {
     "name": "stdout",
     "output_type": "stream",
     "text": [
      "tensor([[ 2,  4,  6],\n",
      "        [ 8, 10, 12]])\n",
      "tensor([[ 1,  3,  5],\n",
      "        [ 7,  9, 11]])\n",
      "tensor([[[ 2,  1],\n",
      "         [ 4,  3],\n",
      "         [ 6,  5]],\n",
      "\n",
      "        [[ 8,  7],\n",
      "         [10,  9],\n",
      "         [12, 11]]])\n"
     ]
    },
    {
     "data": {
      "text/plain": [
       "tensor([[ 2,  1,  4,  3,  6,  5],\n",
       "        [ 8,  7, 10,  9, 12, 11]])"
      ]
     },
     "execution_count": 43,
     "metadata": {},
     "output_type": "execute_result"
    }
   ],
   "source": [
    "even = torch.tensor([[2, 4, 6], [8, 10, 12]])\n",
    "print(even)\n",
    "odd = torch.tensor([[1, 3, 5], [7, 9, 11]])\n",
    "print(odd)\n",
    "stacked = torch.stack([even, odd], dim=2)\n",
    "print(stacked)\n",
    "PE = torch.flatten(stacked, start_dim = 1, end_dim = 2)\n",
    "PE"
   ]
  },
  {
   "cell_type": "code",
   "execution_count": 9,
   "metadata": {},
   "outputs": [
    {
     "data": {
      "text/plain": [
       "Sequential(\n",
       "  (0): Linear(in_features=10, out_features=10, bias=True)\n",
       "  (1): Linear(in_features=10, out_features=10, bias=True)\n",
       "  (2): Dropout2d(p=0.4, inplace=False)\n",
       ")"
      ]
     },
     "execution_count": 9,
     "metadata": {},
     "output_type": "execute_result"
    }
   ],
   "source": [
    "import torch\n",
    "from torch import nn\n",
    "\n",
    "#net = nn.Sequential(nn.Linear(10, 10), nn.Linear(10, 10)); net\n",
    "\n",
    "#l = [nn.Linear(10, 10), nn.Linear(10, 10)]\n",
    "#net = nn.Sequential(*l); net\n",
    "\n",
    "l = [nn.Linear(10, 10)]*2\n",
    "net = nn.Sequential(*l); net\n",
    "\n",
    "net.add_module('2', nn.Dropout2d(0.4)); net"
   ]
  },
  {
   "cell_type": "code",
   "execution_count": 10,
   "metadata": {},
   "outputs": [],
   "source": []
  }
 ],
 "metadata": {
  "kernelspec": {
   "display_name": "general",
   "language": "python",
   "name": "python3"
  },
  "language_info": {
   "codemirror_mode": {
    "name": "ipython",
    "version": 3
   },
   "file_extension": ".py",
   "mimetype": "text/x-python",
   "name": "python",
   "nbconvert_exporter": "python",
   "pygments_lexer": "ipython3",
   "version": "3.11.4"
  },
  "orig_nbformat": 4
 },
 "nbformat": 4,
 "nbformat_minor": 2
}
