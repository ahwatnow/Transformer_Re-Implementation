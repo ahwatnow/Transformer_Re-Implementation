{
 "cells": [
  {
   "cell_type": "markdown",
   "source": [
    "## Dataset Load"
   ],
   "metadata": {}
  },
  {
   "cell_type": "code",
   "execution_count": 1,
   "source": [
    "from datasets import load_dataset\n"
   ],
   "outputs": [
    {
     "output_type": "stream",
     "name": "stderr",
     "text": [
      "/Users/andysohn/miniconda3/envs/re_transformer/lib/python3.11/site-packages/tqdm/auto.py:21: TqdmWarning: IProgress not found. Please update jupyter and ipywidgets. See https://ipywidgets.readthedocs.io/en/stable/user_install.html\n",
      "  from .autonotebook import tqdm as notebook_tqdm\n"
     ]
    }
   ],
   "metadata": {}
  },
  {
   "cell_type": "code",
   "execution_count": 2,
   "source": [
    "# Load the IWSLT 2017 dataset for a specific language pair\n",
    "dataset = load_dataset(\"iwslt2017\", \"iwslt2017-en-de\")\n",
    "\n",
    "\n",
    "# Access specific splits of the dataset\n",
    "train_data = dataset[\"train\"]\n",
    "valid_data = dataset[\"validation\"]\n",
    "test_data = dataset[\"test\"]\n",
    "\n",
    "# Access data examples\n",
    "example = train_data[0]\n",
    "#source_text = example[\"translation\"][\"en\"]\n",
    "#target_text = example[\"translation\"][\"de\"]\n",
    "\n",
    "corpus = [ train_data[i][\"translation\"][\"en\"] for i in range(5) ]\n",
    "#print(example)\n",
    "#print(example[\"translation\"])\n",
    "#print(\"Source:\", source_text)\n",
    "#print(\"Target:\", target_text)\n",
    "\n",
    "print(corpus)\n",
    "\n",
    "#print(dataset)\n",
    "\n"
   ],
   "outputs": [
    {
     "output_type": "stream",
     "name": "stdout",
     "text": [
      "['Thank you so much, Chris.', \"And it's truly a great honor to have the opportunity to come to this stage twice; I'm extremely grateful.\", 'I have been blown away by this conference, and I want to thank all of you for the many nice comments about what I had to say the other night.', 'And I say that sincerely, partly because  I need that.', 'Put yourselves in my position.']\n"
     ]
    }
   ],
   "metadata": {}
  },
  {
   "cell_type": "markdown",
   "source": [
    "## PreTokenizer\n",
    "gpt2 tokenizer for the pre-tokenization"
   ],
   "metadata": {}
  },
  {
   "cell_type": "code",
   "execution_count": 3,
   "source": [
    "from transformers import AutoTokenizer\n",
    "\n",
    "tokenizer = AutoTokenizer.from_pretrained(\"gpt2\")"
   ],
   "outputs": [
    {
     "output_type": "stream",
     "name": "stderr",
     "text": [
      "None of PyTorch, TensorFlow >= 2.0, or Flax have been found. Models won't be available and only tokenizers, configuration and file/data utilities can be used.\n"
     ]
    }
   ],
   "metadata": {}
  },
  {
   "cell_type": "code",
   "execution_count": 4,
   "source": [
    "from collections import defaultdict\n",
    "\n",
    "word_freqs = defaultdict(int)\n",
    "\n",
    "for text in corpus:\n",
    "    new_words = tokenizer.tokenize(text)\n",
    "    for word in new_words:\n",
    "        word_freqs[word] += 1\n",
    "\n",
    "print(word_freqs)"
   ],
   "outputs": [
    {
     "output_type": "stream",
     "name": "stdout",
     "text": [
      "defaultdict(<class 'int'>, {'Thank': 1, 'Ġyou': 2, 'Ġso': 1, 'Ġmuch': 1, ',': 3, 'ĠChris': 1, '.': 5, 'And': 2, 'Ġit': 1, \"'s\": 1, 'Ġtruly': 1, 'Ġa': 1, 'Ġgreat': 1, 'Ġhonor': 1, 'Ġto': 5, 'Ġhave': 2, 'Ġthe': 3, 'Ġopportunity': 1, 'Ġcome': 1, 'Ġthis': 2, 'Ġstage': 1, 'Ġtwice': 1, ';': 1, 'ĠI': 5, \"'m\": 1, 'Ġextremely': 1, 'Ġgrateful': 1, 'I': 1, 'Ġbeen': 1, 'Ġblown': 1, 'Ġaway': 1, 'Ġby': 1, 'Ġconference': 1, 'Ġand': 1, 'Ġwant': 1, 'Ġthank': 1, 'Ġall': 1, 'Ġof': 1, 'Ġfor': 1, 'Ġmany': 1, 'Ġnice': 1, 'Ġcomments': 1, 'Ġabout': 1, 'Ġwhat': 1, 'Ġhad': 1, 'Ġsay': 2, 'Ġother': 1, 'Ġnight': 1, 'Ġthat': 2, 'Ġsincerely': 1, 'Ġpartly': 1, 'Ġbecause': 1, 'Ġ': 1, 'Ġneed': 1, 'Put': 1, 'Ġyourselves': 1, 'Ġin': 1, 'Ġmy': 1, 'Ġposition': 1})\n"
     ]
    }
   ],
   "metadata": {}
  },
  {
   "cell_type": "code",
   "execution_count": 5,
   "source": [
    "alphabet = []\n",
    "\n",
    "for word in word_freqs.keys():\n",
    "    for letter in word:\n",
    "        if letter not in alphabet:\n",
    "            alphabet.append(letter)\n",
    "alphabet.sort()\n",
    "\n",
    "print(alphabet)"
   ],
   "outputs": [
    {
     "output_type": "stream",
     "name": "stdout",
     "text": [
      "[\"'\", ',', '.', ';', 'A', 'C', 'I', 'P', 'T', 'a', 'b', 'c', 'd', 'e', 'f', 'g', 'h', 'i', 'k', 'l', 'm', 'n', 'o', 'p', 'r', 's', 't', 'u', 'v', 'w', 'x', 'y', 'Ġ']\n"
     ]
    }
   ],
   "metadata": {}
  },
  {
   "cell_type": "code",
   "execution_count": 6,
   "source": [
    "vocab = [\"<|endoftext|>\"] + alphabet.copy()"
   ],
   "outputs": [],
   "metadata": {}
  },
  {
   "cell_type": "code",
   "execution_count": 7,
   "source": [
    "splits = {word : [c for c in word] for word in word_freqs.keys()}\n",
    "splits"
   ],
   "outputs": [
    {
     "output_type": "execute_result",
     "data": {
      "text/plain": [
       "{'Thank': ['T', 'h', 'a', 'n', 'k'],\n",
       " 'Ġyou': ['Ġ', 'y', 'o', 'u'],\n",
       " 'Ġso': ['Ġ', 's', 'o'],\n",
       " 'Ġmuch': ['Ġ', 'm', 'u', 'c', 'h'],\n",
       " ',': [','],\n",
       " 'ĠChris': ['Ġ', 'C', 'h', 'r', 'i', 's'],\n",
       " '.': ['.'],\n",
       " 'And': ['A', 'n', 'd'],\n",
       " 'Ġit': ['Ġ', 'i', 't'],\n",
       " \"'s\": [\"'\", 's'],\n",
       " 'Ġtruly': ['Ġ', 't', 'r', 'u', 'l', 'y'],\n",
       " 'Ġa': ['Ġ', 'a'],\n",
       " 'Ġgreat': ['Ġ', 'g', 'r', 'e', 'a', 't'],\n",
       " 'Ġhonor': ['Ġ', 'h', 'o', 'n', 'o', 'r'],\n",
       " 'Ġto': ['Ġ', 't', 'o'],\n",
       " 'Ġhave': ['Ġ', 'h', 'a', 'v', 'e'],\n",
       " 'Ġthe': ['Ġ', 't', 'h', 'e'],\n",
       " 'Ġopportunity': ['Ġ', 'o', 'p', 'p', 'o', 'r', 't', 'u', 'n', 'i', 't', 'y'],\n",
       " 'Ġcome': ['Ġ', 'c', 'o', 'm', 'e'],\n",
       " 'Ġthis': ['Ġ', 't', 'h', 'i', 's'],\n",
       " 'Ġstage': ['Ġ', 's', 't', 'a', 'g', 'e'],\n",
       " 'Ġtwice': ['Ġ', 't', 'w', 'i', 'c', 'e'],\n",
       " ';': [';'],\n",
       " 'ĠI': ['Ġ', 'I'],\n",
       " \"'m\": [\"'\", 'm'],\n",
       " 'Ġextremely': ['Ġ', 'e', 'x', 't', 'r', 'e', 'm', 'e', 'l', 'y'],\n",
       " 'Ġgrateful': ['Ġ', 'g', 'r', 'a', 't', 'e', 'f', 'u', 'l'],\n",
       " 'I': ['I'],\n",
       " 'Ġbeen': ['Ġ', 'b', 'e', 'e', 'n'],\n",
       " 'Ġblown': ['Ġ', 'b', 'l', 'o', 'w', 'n'],\n",
       " 'Ġaway': ['Ġ', 'a', 'w', 'a', 'y'],\n",
       " 'Ġby': ['Ġ', 'b', 'y'],\n",
       " 'Ġconference': ['Ġ', 'c', 'o', 'n', 'f', 'e', 'r', 'e', 'n', 'c', 'e'],\n",
       " 'Ġand': ['Ġ', 'a', 'n', 'd'],\n",
       " 'Ġwant': ['Ġ', 'w', 'a', 'n', 't'],\n",
       " 'Ġthank': ['Ġ', 't', 'h', 'a', 'n', 'k'],\n",
       " 'Ġall': ['Ġ', 'a', 'l', 'l'],\n",
       " 'Ġof': ['Ġ', 'o', 'f'],\n",
       " 'Ġfor': ['Ġ', 'f', 'o', 'r'],\n",
       " 'Ġmany': ['Ġ', 'm', 'a', 'n', 'y'],\n",
       " 'Ġnice': ['Ġ', 'n', 'i', 'c', 'e'],\n",
       " 'Ġcomments': ['Ġ', 'c', 'o', 'm', 'm', 'e', 'n', 't', 's'],\n",
       " 'Ġabout': ['Ġ', 'a', 'b', 'o', 'u', 't'],\n",
       " 'Ġwhat': ['Ġ', 'w', 'h', 'a', 't'],\n",
       " 'Ġhad': ['Ġ', 'h', 'a', 'd'],\n",
       " 'Ġsay': ['Ġ', 's', 'a', 'y'],\n",
       " 'Ġother': ['Ġ', 'o', 't', 'h', 'e', 'r'],\n",
       " 'Ġnight': ['Ġ', 'n', 'i', 'g', 'h', 't'],\n",
       " 'Ġthat': ['Ġ', 't', 'h', 'a', 't'],\n",
       " 'Ġsincerely': ['Ġ', 's', 'i', 'n', 'c', 'e', 'r', 'e', 'l', 'y'],\n",
       " 'Ġpartly': ['Ġ', 'p', 'a', 'r', 't', 'l', 'y'],\n",
       " 'Ġbecause': ['Ġ', 'b', 'e', 'c', 'a', 'u', 's', 'e'],\n",
       " 'Ġ': ['Ġ'],\n",
       " 'Ġneed': ['Ġ', 'n', 'e', 'e', 'd'],\n",
       " 'Put': ['P', 'u', 't'],\n",
       " 'Ġyourselves': ['Ġ', 'y', 'o', 'u', 'r', 's', 'e', 'l', 'v', 'e', 's'],\n",
       " 'Ġin': ['Ġ', 'i', 'n'],\n",
       " 'Ġmy': ['Ġ', 'm', 'y'],\n",
       " 'Ġposition': ['Ġ', 'p', 'o', 's', 'i', 't', 'i', 'o', 'n']}"
      ]
     },
     "metadata": {},
     "execution_count": 7
    }
   ],
   "metadata": {}
  },
  {
   "cell_type": "code",
   "execution_count": 8,
   "source": [
    "def compute_pair_frequs(splits):\n",
    "    pair_freqs = defaultdict(int)\n",
    "    for word, freq in word_freqs.items():\n",
    "        split = splits[word]\n",
    "        if len(split) == 1:\n",
    "            continue\n",
    "        for i in range(len(split)-1):\n",
    "            pair = (split[i], split[i+1])\n",
    "            pair_freqs[pair] += freq\n",
    "    return pair_freqs\n",
    "\n",
    "\n"
   ],
   "outputs": [],
   "metadata": {}
  }
 ],
 "metadata": {
  "orig_nbformat": 4,
  "language_info": {
   "name": "python",
   "version": "3.11.0",
   "mimetype": "text/x-python",
   "codemirror_mode": {
    "name": "ipython",
    "version": 3
   },
   "pygments_lexer": "ipython3",
   "nbconvert_exporter": "python",
   "file_extension": ".py"
  },
  "kernelspec": {
   "name": "python3",
   "display_name": "Python 3.11.0 64-bit ('re_transformer': conda)"
  },
  "interpreter": {
   "hash": "8b7f09212860d2c02c27e5741be62afba03f40fe8e1ae82f145b69cf5b5c11bc"
  }
 },
 "nbformat": 4,
 "nbformat_minor": 2
}